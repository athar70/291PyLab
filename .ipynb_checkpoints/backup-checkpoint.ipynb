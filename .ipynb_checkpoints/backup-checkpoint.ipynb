{
 "cells": [
  {
   "cell_type": "markdown",
   "metadata": {},
   "source": [
    "### Python Lab 2 Tutorial\n",
    "This notebook will be an alternative the lecture notes as well as the coding section. It will be a mix of 3 components:\n",
    "1. Setting up the tables(student/enroll/course) and"
   ]
  },
  {
   "cell_type": "code",
   "execution_count": null,
   "metadata": {},
   "outputs": [],
   "source": []
  },
  {
   "cell_type": "code",
   "execution_count": 2,
   "metadata": {},
   "outputs": [],
   "source": [
    "import sqlite3\n",
    "import time\n",
    "import hashlib\n",
    "import lab_utils as labUtils\n",
    "connection = None\n",
    "cursor = None\n",
    "\n",
    "def connect(path):\n",
    "    global connection, cursor\n",
    "    connection = sqlite3.connect(path)\n",
    "    cursor = connection.cursor()\n",
    "    cursor.execute(' PRAGMA forteign_keys=ON; ')\n",
    "    connection.commit()\n",
    "    return connection,cursor\n"
   ]
  },
  {
   "cell_type": "code",
   "execution_count": 3,
   "metadata": {},
   "outputs": [],
   "source": [
    "def GPA(grade):\n",
    "    global connection, cursor\n",
    "    # Map the grade to a numerical value\n",
    "    if grade=='A':\n",
    "        return 4   \n",
    "    elif grade=='B':        \n",
    "        return 3    \n",
    "    elif grade=='C':       \n",
    "        return 2\n",
    "    return 0"
   ]
  },
  {
   "cell_type": "code",
   "execution_count": 4,
   "metadata": {},
   "outputs": [],
   "source": [
    "def getNumericAverages():   \n",
    "    # Use the GPA function to get a sorted list of the student names with their average GPAs.\n",
    "    cursor.execute('''\n",
    "    SELECT s.name, AVG(GPA(e.grade)) AS avg_gpa\n",
    "    FROM student AS s, enroll AS e \n",
    "    WHERE s.student_id = e.student_id\n",
    "    GROUP BY s.name\n",
    "    ORDER BY avg_gpa;''') \n",
    "    all_entry = cursor.fetchall()    \n",
    "    for one_entry in all_entry:        \n",
    "        print (one_entry)   "
   ]
  },
  {
   "cell_type": "code",
   "execution_count": 5,
   "metadata": {},
   "outputs": [
    {
     "name": "stdout",
     "output_type": "stream",
     "text": [
      "('Mike', 1.6666666666666667)\n",
      "('Alex', 2.3333333333333335)\n",
      "('Saeed', 2.6666666666666665)\n"
     ]
    }
   ],
   "source": [
    "def main():\n",
    "    global connection, cursor\n",
    "    path=\"./register.db\"\n",
    "    connect(path)\n",
    "    connection.create_function('GPA', 1, GPA)\n",
    "    #create database or overwrite it\n",
    "    labUtils.setupDatabase()\n",
    "    ###get the numeric average of the course###\n",
    "    getNumericAverages()\n",
    "    return\n",
    "\n",
    "if __name__ == \"__main__\":\n",
    "    main()"
   ]
  },
  {
   "cell_type": "code",
   "execution_count": 6,
   "metadata": {},
   "outputs": [],
   "source": [
    "def drop(student_id, course_id):\n",
    "    global connection, cursor\n",
    "    # Drop the course for the student and update the seats_avialable column\n",
    "    data = (student_id, course_id)    \n",
    "    cursor.execute('DELETE FROM enroll WHERE student_id=? and course_id=?;', data) \n",
    "    data = (course_id, student_id, course_id)    \n",
    "    cursor.execute( \n",
    "    ''' UPDATE course SET seats_available = seats_available + 1  \n",
    "    where course_id=? and NOT EXISTS  (select * from enroll \n",
    "    WHERE student_id=? and course_id=?); ''' ,data)\n",
    "    \n",
    "    connection.commit()\n",
    "    print(\"drop successeful!\")\n",
    "    return"
   ]
  },
  {
   "cell_type": "code",
   "execution_count": 7,
   "metadata": {},
   "outputs": [],
   "source": [
    "# We define a function that prints a table from register.db given a table name\n",
    "def printTable(t):\n",
    "    try:\n",
    "        cursor.execute('select * from %s;'%(t,))\n",
    "        tRows=cursor.fetchall()\n",
    "        for row in tRows:\n",
    "            print(row)\n",
    "    except e:\n",
    "        print(e)\n",
    "        print(\"couldn't print table, are you sure it exists?\")"
   ]
  },
  {
   "cell_type": "code",
   "execution_count": 8,
   "metadata": {},
   "outputs": [
    {
     "name": "stdout",
     "output_type": "stream",
     "text": [
      "(1409106, 1, '2019-09-09 01:44:58', 'A')\n",
      "(1509106, 1, '2019-09-09 01:44:58', 'A')\n",
      "(1609106, 1, '2019-09-09 01:44:58', 'C')\n",
      "(1409106, 2, '2019-09-09 01:44:58', 'B')\n",
      "(1509106, 2, '2019-09-09 01:44:58', 'C')\n",
      "(1609106, 2, '2019-09-09 01:44:58', 'B')\n",
      "(1409106, 3, '2019-09-09 01:44:58', 'F')\n",
      "(1509106, 3, '2019-09-09 01:44:58', 'C')\n",
      "(1609106, 3, '2019-09-09 01:44:58', None)\n"
     ]
    }
   ],
   "source": [
    "#we print the enroll table, then we use our drop function and print it again, to see if the drop occured\n",
    "printTable(\"enroll\")"
   ]
  },
  {
   "cell_type": "code",
   "execution_count": 9,
   "metadata": {},
   "outputs": [
    {
     "name": "stdout",
     "output_type": "stream",
     "text": [
      "drop successeful!\n",
      "drop successeful!\n",
      "drop successeful!\n",
      "(1509106, 1, '2019-09-09 01:44:58', 'A')\n",
      "(1609106, 1, '2019-09-09 01:44:58', 'C')\n",
      "(1509106, 2, '2019-09-09 01:44:58', 'C')\n",
      "(1609106, 2, '2019-09-09 01:44:58', 'B')\n",
      "(1509106, 3, '2019-09-09 01:44:58', 'C')\n",
      "(1609106, 3, '2019-09-09 01:44:58', None)\n"
     ]
    }
   ],
   "source": [
    "drop(1409106,1)\n",
    "drop(1409106,2)\n",
    "drop(1409106,3)\n",
    "printTable(\"enroll\")"
   ]
  },
  {
   "cell_type": "code",
   "execution_count": null,
   "metadata": {},
   "outputs": [],
   "source": []
  },
  {
   "cell_type": "code",
   "execution_count": null,
   "metadata": {},
   "outputs": [],
   "source": []
  }
 ],
 "metadata": {
  "kernelspec": {
   "display_name": "'Python Interactive'",
   "language": "python",
   "name": "89aaa044-9b66-402c-83c7-889f88e4f2f0"
  },
  "language_info": {
   "codemirror_mode": {
    "name": "ipython",
    "version": 3
   },
   "file_extension": ".py",
   "mimetype": "text/x-python",
   "name": "python",
   "nbconvert_exporter": "python",
   "pygments_lexer": "ipython3",
   "version": "3.6.8"
  }
 },
 "nbformat": 4,
 "nbformat_minor": 2
}
